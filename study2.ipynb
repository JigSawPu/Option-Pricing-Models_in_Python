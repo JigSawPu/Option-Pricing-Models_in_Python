{
 "cells": [
  {
   "cell_type": "code",
   "execution_count": 3,
   "id": "527bfb80",
   "metadata": {},
   "outputs": [],
   "source": [
    "import numpy as np\n",
    "import math\n",
    "from scipy.stats import norm"
   ]
  },
  {
   "cell_type": "code",
   "execution_count": 4,
   "id": "3e480924",
   "metadata": {},
   "outputs": [],
   "source": [
    "class CallOption_contract:\n",
    "    def __init__(self, underlying, strike, days_to_expiry, risk_free_rate, volatility):\n",
    "        self._underlying = underlying\n",
    "        self._strike = strike\n",
    "        self._days_to_expiry = days_to_expiry/365\n",
    "        self._risk_free_rate = risk_free_rate/100\n",
    "        self._volatility = volatility/100\n",
    "        self._coords = self.calc_option_premium_n_greeks()\n",
    "\n",
    "    def calc_option_premium_n_greeks(self):\n",
    "        d1 = (math.log(self._underlying/self._strike) + self._days_to_expiry*(self._risk_free_rate + (self._volatility**2)/2))/(self._volatility*math.sqrt(self._days_to_expiry))\n",
    "        d2 = d1 - self._volatility*math.sqrt(self._days_to_expiry)\n",
    "        fv_strike = self._strike*math.exp(-1*self._risk_free_rate*self._days_to_expiry)\n",
    "        call_premium = self._underlying*norm.cdf(d1) - fv_strike*norm.cdf(d2)\n",
    "        put_premium = fv_strike*norm.cdf(-1*d2) - self._underlying*norm.cdf(-1*d1)\n",
    "        call_delta = norm.cdf(d1)\n",
    "        call_gamma = norm.pdf(d1)/(self._underlying*self._volatility*math.sqrt(self._days_to_expiry))\n",
    "        call_vega = self._underlying*norm.pdf(d1)*math.sqrt(self._days_to_expiry)/100\n",
    "        call_theta = (-1*self._underlying*norm.pdf(d1)*self._volatility/(2*math.sqrt(self._days_to_expiry)) - self._risk_free_rate*fv_strike*norm.cdf(d2))/365\n",
    "        return call_premium, call_delta, call_gamma, call_vega, call_theta\n",
    "    \n",
    "class PutOption_contract(CallOption_contract):\n",
    "    def calc_option_premium_n_greeks(self):\n",
    "        d1 = (math.log(self._underlying/self._strike) + self._days_to_expiry*(self._risk_free_rate + (self._volatility**2)/2))/(self._volatility*math.sqrt(self._days_to_expiry))\n",
    "        d2 = d1 - self._volatility*math.sqrt(self._days_to_expiry)\n",
    "        fv_strike = self._strike*math.exp(-1*self._risk_free_rate*self._days_to_expiry)\n",
    "        call_premium = self._underlying*norm.cdf(d1) - fv_strike*norm.cdf(d2)\n",
    "        put_premium = fv_strike*norm.cdf(-1*d2) - self._underlying*norm.cdf(-1*d1)\n",
    "        call_delta = norm.cdf(d1)\n",
    "        put_delta = call_delta - 1\n",
    "        call_gamma = norm.pdf(d1)/(self._underlying*self._volatility*math.sqrt(self._days_to_expiry))\n",
    "        call_vega = self._underlying*norm.pdf(d1)*math.sqrt(self._days_to_expiry)/100\n",
    "        call_theta = (-1*self._underlying*norm.pdf(d1)*self._volatility/(2*math.sqrt(self._days_to_expiry)) - self._risk_free_rate*fv_strike*norm.cdf(d2))/365\n",
    "        put_theta = (-1*self._underlying*norm.pdf(d1)*self._volatility/(2*math.sqrt(self._days_to_expiry)) + self._risk_free_rate*fv_strike*norm.cdf(-1*d2))/365\n",
    "        return put_premium, put_delta, call_gamma, call_vega, put_theta"
   ]
  },
  {
   "cell_type": "code",
   "execution_count": 14,
   "id": "0dd05736",
   "metadata": {},
   "outputs": [
    {
     "data": {
      "text/plain": [
       "(101.29359000334512,\n",
       " 0.9999999999999941,\n",
       " 3.324000373595884e-15,\n",
       " 6.374795237033202e-14,\n",
       " -0.1846657006842885)"
      ]
     },
     "execution_count": 14,
     "metadata": {},
     "output_type": "execute_result"
    }
   ],
   "source": [
    "c1 = CallOption_contract(1000, 900, 7, 7.5, 10)\n",
    "c1._coords"
   ]
  },
  {
   "cell_type": "code",
   "execution_count": 21,
   "id": "817a6615",
   "metadata": {},
   "outputs": [
    {
     "data": {
      "text/plain": [
       "(618.6365269597518,\n",
       " -0.9696265814499294,\n",
       " 0.0002148723508687479,\n",
       " 0.9831361050043185,\n",
       " -0.3953572246419803)"
      ]
     },
     "execution_count": 21,
     "metadata": {},
     "output_type": "execute_result"
    }
   ],
   "source": [
    "p1 = PutOption_contract(15775, 16400, 3, 7.5, 22.37)\n",
    "p1._coords"
   ]
  },
  {
   "cell_type": "code",
   "execution_count": 1,
   "id": "87a144c0",
   "metadata": {},
   "outputs": [],
   "source": [
    "import math\n"
   ]
  },
  {
   "cell_type": "code",
   "execution_count": 8,
   "id": "6be17d77",
   "metadata": {},
   "outputs": [],
   "source": [
    "z = math.exp(1)"
   ]
  },
  {
   "cell_type": "code",
   "execution_count": 12,
   "id": "7ee454eb",
   "metadata": {},
   "outputs": [
    {
     "data": {
      "text/plain": [
       "3.9620213027849362"
      ]
     },
     "execution_count": 12,
     "metadata": {},
     "output_type": "execute_result"
    }
   ],
   "source": [
    "sum = 5/2\n",
    "for i in range(1,300):\n",
    "    sum += 5/(5 + 2**(i+1))\n",
    "sum"
   ]
  },
  {
   "cell_type": "code",
   "execution_count": 10,
   "id": "5939687f",
   "metadata": {},
   "outputs": [
    {
     "data": {
      "text/plain": [
       "1.2437394743258912"
      ]
     },
     "execution_count": 10,
     "metadata": {},
     "output_type": "execute_result"
    }
   ],
   "source": [
    "sum - z"
   ]
  },
  {
   "cell_type": "code",
   "execution_count": 16,
   "id": "7b9b4b72",
   "metadata": {},
   "outputs": [
    {
     "data": {
      "text/plain": [
       "2.380952380952381"
      ]
     },
     "execution_count": 16,
     "metadata": {},
     "output_type": "execute_result"
    }
   ],
   "source": [
    "(5/2) + "
   ]
  },
  {
   "cell_type": "code",
   "execution_count": null,
   "id": "800ec491",
   "metadata": {},
   "outputs": [],
   "source": [
    "# in a num sys, you define, upper bound, then lower bound, get the mid and do it recurvisely, like a infinite series \n",
    "# it is then expected you get a number special to that num sys, that facilitate many things. so many some version of this \n",
    "#story"
   ]
  }
 ],
 "metadata": {
  "kernelspec": {
   "display_name": "Python 3 (ipykernel)",
   "language": "python",
   "name": "python3"
  },
  "language_info": {
   "codemirror_mode": {
    "name": "ipython",
    "version": 3
   },
   "file_extension": ".py",
   "mimetype": "text/x-python",
   "name": "python",
   "nbconvert_exporter": "python",
   "pygments_lexer": "ipython3",
   "version": "3.9.10"
  }
 },
 "nbformat": 4,
 "nbformat_minor": 5
}

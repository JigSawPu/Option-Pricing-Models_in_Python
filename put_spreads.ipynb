{
 "cells": [
  {
   "cell_type": "code",
   "execution_count": 1,
   "metadata": {},
   "outputs": [],
   "source": [
    "import math\n",
    "from scipy.stats import norm\n",
    "\n",
    "class PutOption_contract:\n",
    "    def __init__(self, underlying, strike, days_to_expiry, risk_free_rate, volatility):\n",
    "        self._underlying = underlying\n",
    "        self._strike = strike\n",
    "        self._days_to_expiry = days_to_expiry/365\n",
    "        self._risk_free_rate = risk_free_rate/100\n",
    "        self._volatility = volatility/100\n",
    "        self._coords = self.calc_option_premium_n_greeks()\n",
    "\n",
    "    def calc_option_premium_n_greeks(self):\n",
    "        d1 = (math.log(self._underlying/self._strike) + self._days_to_expiry*(self._risk_free_rate + (self._volatility**2)/2))/(self._volatility*math.sqrt(self._days_to_expiry))\n",
    "        d2 = d1 - self._volatility*math.sqrt(self._days_to_expiry)\n",
    "        fv_strike = self._strike*math.exp(-1*self._risk_free_rate*self._days_to_expiry)\n",
    "        call_premium = self._underlying*norm.cdf(d1) - fv_strike*norm.cdf(d2)\n",
    "        put_premium = fv_strike*norm.cdf(-1*d2) - self._underlying*norm.cdf(-1*d1)\n",
    "        call_delta = norm.cdf(d1)\n",
    "        put_delta = call_delta - 1\n",
    "        call_gamma = norm.pdf(d1)/(self._underlying*self._volatility*math.sqrt(self._days_to_expiry))\n",
    "        call_vega = self._underlying*norm.pdf(d1)*math.sqrt(self._days_to_expiry)/100\n",
    "        call_theta = (-1*self._underlying*norm.pdf(d1)*self._volatility/(2*math.sqrt(self._days_to_expiry)) - self._risk_free_rate*fv_strike*norm.cdf(d2))/365\n",
    "        put_theta = (-1*self._underlying*norm.pdf(d1)*self._volatility/(2*math.sqrt(self._days_to_expiry)) + self._risk_free_rate*fv_strike*norm.cdf(-1*d2))/365\n",
    "        return put_premium, put_delta, call_gamma, call_vega, put_theta"
   ]
  },
  {
   "cell_type": "code",
   "execution_count": 24,
   "metadata": {},
   "outputs": [],
   "source": [
    "t, r, v = 6, 7.5, 19.26*1.3\n",
    "u = 34425\n",
    "\n",
    "option1 = Option_contract(u, 34900, t, r, v)\n",
    "option2 = Option_contract(u, 34200, t, r, v)\n",
    "\n"
   ]
  },
  {
   "cell_type": "code",
   "execution_count": 22,
   "metadata": {},
   "outputs": [
    {
     "data": {
      "text/plain": [
       "(200.46100174621643,\n",
       " -0.28506588282864964,\n",
       " 0.00030600105553923887,\n",
       " 15.047143683670988,\n",
       " -29.330023533982573)"
      ]
     },
     "execution_count": 22,
     "metadata": {},
     "output_type": "execute_result"
    }
   ],
   "source": [
    "option3._coords"
   ]
  },
  {
   "cell_type": "code",
   "execution_count": 25,
   "metadata": {},
   "outputs": [
    {
     "name": "stdout",
     "output_type": "stream",
     "text": [
      "Greeks of spread when started\n",
      "\n",
      "premium_value \t -9355.892753751414\n",
      "\n",
      "delta \t 6.182248106615322\n",
      "\n",
      "gamma \t 0.0003076281704518669\n",
      "\n",
      "vega \t 15.004862550704956\n",
      "\n",
      "theta \t -76.96102594985075\n"
     ]
    }
   ],
   "source": [
    "spread_when_started = [0]*5\n",
    "for i in range(5):\n",
    "    spread_when_started[i] = 25*option2._coords[i] - 25*option1._coords[i]\n",
    "    #spread_when_started[i] = 50*option3._coords[i] + 50*option4._coords[i] - 50*option1._coords[i] - 50*option2._coords[i]\n",
    "print('Greeks of spread when started')\n",
    "print(f'\\npremium_value \\t {spread_when_started[0]}')\n",
    "print(f'\\ndelta \\t {spread_when_started[1]}')\n",
    "print(f'\\ngamma \\t {spread_when_started[2]}')\n",
    "print(f'\\nvega \\t {spread_when_started[3]}')\n",
    "print(f'\\ntheta \\t {spread_when_started[4]}')"
   ]
  },
  {
   "cell_type": "code",
   "execution_count": null,
   "metadata": {},
   "outputs": [],
   "source": []
  }
 ],
 "metadata": {
  "kernelspec": {
   "display_name": "Python 3.10.4 64-bit",
   "language": "python",
   "name": "python3"
  },
  "language_info": {
   "codemirror_mode": {
    "name": "ipython",
    "version": 3
   },
   "file_extension": ".py",
   "mimetype": "text/x-python",
   "name": "python",
   "nbconvert_exporter": "python",
   "pygments_lexer": "ipython3",
   "version": "3.10.4"
  },
  "vscode": {
   "interpreter": {
    "hash": "3ad933181bd8a04b432d3370b9dc3b0662ad032c4dfaa4e4f1596c548f763858"
   }
  }
 },
 "nbformat": 4,
 "nbformat_minor": 2
}

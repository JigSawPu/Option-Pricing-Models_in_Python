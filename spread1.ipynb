{
 "cells": [
  {
   "cell_type": "code",
   "execution_count": 1,
   "metadata": {},
   "outputs": [],
   "source": [
    "# for weekly options input of india vix as vol gives very accurate matching to market\n",
    "import math\n",
    "from scipy.stats import norm\n",
    "\n",
    "class Option_contract:\n",
    "    def __init__(self, underlying, strike, days_to_expiry, risk_free_rate, volatility):\n",
    "        self._underlying = underlying\n",
    "        self._strike = strike\n",
    "        self._days_to_expiry = days_to_expiry/365\n",
    "        self._risk_free_rate = risk_free_rate/100\n",
    "        self._volatility = volatility/100\n",
    "        self._coords = self.calc_option_premium_n_greeks()\n",
    "\n",
    "    def calc_option_premium_n_greeks(self):\n",
    "        d1 = (math.log(self._underlying/self._strike) + self._days_to_expiry*(self._risk_free_rate + (self._volatility**2)/2))/(self._volatility*math.sqrt(self._days_to_expiry))\n",
    "        d2 = d1 - self._volatility*math.sqrt(self._days_to_expiry)\n",
    "        fv_strike = self._strike*math.exp(-1*self._risk_free_rate*self._days_to_expiry)\n",
    "        call_premium = self._underlying*norm.cdf(d1) - fv_strike*norm.cdf(d2)\n",
    "        put_premium = fv_strike*norm.cdf(-1*d2) - self._underlying*norm.cdf(-1*d1)\n",
    "        call_delta = norm.cdf(d1)\n",
    "        call_gamma = norm.pdf(d1)/(self._underlying*self._volatility*math.sqrt(self._days_to_expiry))\n",
    "        call_vega = self._underlying*norm.pdf(d1)*math.sqrt(self._days_to_expiry)/100\n",
    "        call_theta = (-1*self._underlying*norm.pdf(d1)*self._volatility/(2*math.sqrt(self._days_to_expiry)) - self._risk_free_rate*fv_strike*norm.cdf(d2))/365\n",
    "        return call_premium, call_delta, call_gamma, call_vega, call_theta"
   ]
  },
  {
   "cell_type": "code",
   "execution_count": 23,
   "metadata": {},
   "outputs": [],
   "source": [
    "#current status\n",
    "t, r, v = 2.625, 7.5, 22.77\n",
    "u = 32740\n",
    "\n",
    "option1 = Option_contract(u, 32600, t, r, v)\n",
    "option2 = Option_contract(u, 33000, t, r, v)\n"
   ]
  },
  {
   "cell_type": "code",
   "execution_count": 32,
   "metadata": {},
   "outputs": [],
   "source": [
    "#current status\n",
    "r, v = 7.5, 19.46*1.3\n",
    "u = 34891.25\n",
    "\n",
    "option1 = Option_contract(u, 34300, 7, r, v)\n",
    "option2 = Option_contract(u, 34400, 14, r, v)\n"
   ]
  },
  {
   "cell_type": "code",
   "execution_count": 26,
   "metadata": {},
   "outputs": [],
   "source": [
    "r, v = 7.5, 19.39\n",
    "u = 16349.45\n",
    "\n",
    "option1 = Option_contract(u, 16300, 0.25, r, v)\n",
    "option2 = Option_contract(u, 16400, 0.25, r, v)\n",
    "option3 = Option_contract(u, 16350, 0.25, r, v)"
   ]
  },
  {
   "cell_type": "code",
   "execution_count": 24,
   "metadata": {},
   "outputs": [
    {
     "name": "stdout",
     "output_type": "stream",
     "text": [
      "Greeks of spread when started\n",
      "\n",
      "premium_value \t 4698.634111184265\n",
      "\n",
      "delta \t 6.186223530204661\n",
      "\n",
      "gamma \t 0.0005325302648917923\n",
      "\n",
      "vega \t 9.34762149981384\n",
      "\n",
      "theta \t -81.19368028516169\n"
     ]
    }
   ],
   "source": [
    "spread_when_started = [0]*5\n",
    "for i in range(5):\n",
    "    spread_when_started[i] = 25*option1._coords[i] - 25*option2._coords[i]\n",
    "    #spread_when_started[i] = 50*option3._coords[i] + 50*option4._coords[i] - 50*option1._coords[i] - 50*option2._coords[i]\n",
    "print('Greeks of spread when started')\n",
    "print(f'\\npremium_value \\t {spread_when_started[0]}')\n",
    "print(f'\\ndelta \\t {spread_when_started[1]}')\n",
    "print(f'\\ngamma \\t {spread_when_started[2]}')\n",
    "print(f'\\nvega \\t {spread_when_started[3]}')\n",
    "print(f'\\ntheta \\t {spread_when_started[4]}')"
   ]
  },
  {
   "cell_type": "code",
   "execution_count": 77,
   "metadata": {},
   "outputs": [],
   "source": [
    "#when started\n",
    "t, r, v = 1.6666, 7.5, 19.91\n",
    "u = 16436.25\n",
    "\n",
    "option1 = Option_contract(u, 16550, t, r, v)\n",
    "option2 = Option_contract(u, 16400, t, r, v)\n",
    "option3 = Option_contract(u, 16300, t, r, v)\n",
    "option4 = Option_contract(u, 16650, t, r, v)\n"
   ]
  },
  {
   "cell_type": "code",
   "execution_count": 11,
   "metadata": {},
   "outputs": [
    {
     "name": "stdout",
     "output_type": "stream",
     "text": [
      "Greeks of spread when started\n",
      "\n",
      "premium_value \t 1551.0419386352623\n",
      "\n",
      "delta \t 11.262868507165354\n",
      "\n",
      "gamma \t -0.04155878463231005\n",
      "\n",
      "vega \t -14.84529145014757\n",
      "\n",
      "theta \t 538.0642071019279\n"
     ]
    }
   ],
   "source": [
    "spread_when_started = [0]*5\n",
    "for i in range(5):\n",
    "    spread_when_started[i] = 50*option1._coords[i] - 50*option2._coords[i]\n",
    "    #spread_when_started[i] = 50*option3._coords[i] + 50*option4._coords[i] - 50*option1._coords[i] - 50*option2._coords[i]\n",
    "print('Greeks of spread when started')\n",
    "print(f'\\npremium_value \\t {spread_when_started[0]}')\n",
    "print(f'\\ndelta \\t {spread_when_started[1]}')\n",
    "print(f'\\ngamma \\t {spread_when_started[2]}')\n",
    "print(f'\\nvega \\t {spread_when_started[3]}')\n",
    "print(f'\\ntheta \\t {spread_when_started[4]}')"
   ]
  },
  {
   "cell_type": "code",
   "execution_count": 17,
   "metadata": {},
   "outputs": [
    {
     "name": "stdout",
     "output_type": "stream",
     "text": [
      "Greeks of spread now\n",
      "\n",
      "premium_value \t 5690.410925705737\n",
      "\n",
      "delta \t 14.856990665234509\n",
      "\n",
      "gamma \t -0.06358351696147456\n",
      "\n",
      "vega \t -109.01662593382468\n",
      "\n",
      "theta \t 887.9743283732664\n"
     ]
    }
   ],
   "source": [
    "current_status_of_spread = [0]*5\n",
    "for i in range(5):\n",
    "    #current_status_of_spread[i] = 50*option2._coords[i] - 50*option1._coords[i]\n",
    "    current_status_of_spread[i] = 50*option3._coords[i] + 50*option4._coords[i] - 50*option1._coords[i] - 50*option2._coords[i]\n",
    "print('Greeks of spread now')\n",
    "print(f'\\npremium_value \\t {current_status_of_spread[0]}')\n",
    "print(f'\\ndelta \\t {current_status_of_spread[1]}')\n",
    "print(f'\\ngamma \\t {current_status_of_spread[2]}')\n",
    "print(f'\\nvega \\t {current_status_of_spread[3]}')\n",
    "print(f'\\ntheta \\t {current_status_of_spread[4]}')"
   ]
  },
  {
   "cell_type": "code",
   "execution_count": null,
   "metadata": {},
   "outputs": [],
   "source": []
  }
 ],
 "metadata": {
  "kernelspec": {
   "display_name": "Python 3.10.4 64-bit",
   "language": "python",
   "name": "python3"
  },
  "language_info": {
   "codemirror_mode": {
    "name": "ipython",
    "version": 3
   },
   "file_extension": ".py",
   "mimetype": "text/x-python",
   "name": "python",
   "nbconvert_exporter": "python",
   "pygments_lexer": "ipython3",
   "version": "3.10.4"
  },
  "vscode": {
   "interpreter": {
    "hash": "3ad933181bd8a04b432d3370b9dc3b0662ad032c4dfaa4e4f1596c548f763858"
   }
  }
 },
 "nbformat": 4,
 "nbformat_minor": 2
}

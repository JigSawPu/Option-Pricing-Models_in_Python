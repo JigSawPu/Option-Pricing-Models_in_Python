{
 "cells": [
  {
   "cell_type": "code",
   "execution_count": 1,
   "metadata": {},
   "outputs": [],
   "source": [
    "import math\n",
    "from scipy.stats import norm"
   ]
  },
  {
   "cell_type": "code",
   "execution_count": 10,
   "metadata": {},
   "outputs": [],
   "source": [
    "strike = 10000\n",
    "stock = 10416.35\n",
    "vol = 21.82/100\n",
    "r = 7.5/100\n",
    "t = 18/365\n",
    "\n",
    "d1 = (math.log(stock/strike) + t*(r + (vol**2)/2))/(vol*math.sqrt(t))\n",
    "d2 = d1 - vol*math.sqrt(t)\n",
    "fv_strike = strike*math.exp(-1*r*t)\n",
    "call_premium = stock*norm.cdf(d1) - fv_strike*norm.cdf(d2)\n",
    "put_premium = fv_strike*norm.cdf(-1*d2) - stock*norm.cdf(-1*d1)\n",
    "call_delta = norm.cdf(d1)\n",
    "put_delta = call_delta - 1\n",
    "#put_premium = call_premium + strike*math.exp(-1*r*t) - stock # using put call parity"
   ]
  },
  {
   "cell_type": "code",
   "execution_count": 11,
   "metadata": {},
   "outputs": [
    {
     "name": "stdout",
     "output_type": "stream",
     "text": [
      "306.29519188356426 329.03051449610575\n"
     ]
    }
   ],
   "source": [
    "print(call_premium, put_premium)"
   ]
  },
  {
   "cell_type": "code",
   "execution_count": 2,
   "metadata": {},
   "outputs": [],
   "source": [
    "class Option_contract:\n",
    "    def __init__(self, underlying, strike, days_to_expiry, risk_free_rate, volatility):\n",
    "        self._underlying = underlying\n",
    "        self._strike = strike\n",
    "        self._days_to_expiry = days_to_expiry/365\n",
    "        self._risk_free_rate = risk_free_rate/100\n",
    "        self._volatility = volatility/100\n",
    "        self._coords = self.calc_option_premium_n_greeks()\n",
    "\n",
    "    def calc_option_premium_n_greeks(self):\n",
    "        d1 = (math.log(self._underlying/self._strike) + self._days_to_expiry*(self._risk_free_rate + (self._volatility**2)/2))/(self._volatility*math.sqrt(self._days_to_expiry))\n",
    "        d2 = d1 - self._volatility*math.sqrt(self._days_to_expiry)\n",
    "        fv_strike = self._strike*math.exp(-1*self._risk_free_rate*self._days_to_expiry)\n",
    "        call_premium = self._underlying*norm.cdf(d1) - fv_strike*norm.cdf(d2)\n",
    "        call_delta = norm.cdf(d1)\n",
    "        call_gamma = norm.pdf(d1)/(self._underlying*self._volatility*math.sqrt(self._days_to_expiry))\n",
    "        call_vega = self._underlying*norm.pdf(d1)*math.sqrt(self._days_to_expiry)/100\n",
    "        call_theta = (-1*self._underlying*norm.pdf(d1)*self._volatility/(2*math.sqrt(self._days_to_expiry)) - self._risk_free_rate*fv_strike*norm.cdf(d2))/365\n",
    "        return call_premium, call_delta, call_gamma, call_vega, call_theta\n"
   ]
  },
  {
   "cell_type": "code",
   "execution_count": 3,
   "metadata": {},
   "outputs": [],
   "source": [
    "option1 = Option_contract(10000, 10400, 18, 7.5, 1.3*20.43)\n",
    "option2 = Option_contract(15000, 15300, 18, 7.5, 1.3*20.43)"
   ]
  },
  {
   "cell_type": "code",
   "execution_count": 7,
   "metadata": {},
   "outputs": [
    {
     "data": {
      "text/plain": [
       "[46.26756082522479,\n",
       " 0.019178172749002687,\n",
       " 2.8238460143402856e-07,\n",
       " 0.045296973529559637,\n",
       " -0.1618202612691455]"
      ]
     },
     "execution_count": 7,
     "metadata": {},
     "output_type": "execute_result"
    }
   ],
   "source": [
    "spread = [0]*5\n",
    "for i in range(5):\n",
    "    spread[i] = option1._coords[i] + option2._coords[i]\n",
    "spread"
   ]
  }
 ],
 "metadata": {
  "kernelspec": {
   "display_name": "Python 3.10.4 64-bit",
   "language": "python",
   "name": "python3"
  },
  "language_info": {
   "codemirror_mode": {
    "name": "ipython",
    "version": 3
   },
   "file_extension": ".py",
   "mimetype": "text/x-python",
   "name": "python",
   "nbconvert_exporter": "python",
   "pygments_lexer": "ipython3",
   "version": "3.10.4"
  },
  "orig_nbformat": 4,
  "vscode": {
   "interpreter": {
    "hash": "3ad933181bd8a04b432d3370b9dc3b0662ad032c4dfaa4e4f1596c548f763858"
   }
  }
 },
 "nbformat": 4,
 "nbformat_minor": 2
}
